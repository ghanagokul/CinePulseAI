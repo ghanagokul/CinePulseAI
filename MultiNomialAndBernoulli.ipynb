{
 "cells": [
  {
   "cell_type": "code",
   "execution_count": 1,
   "metadata": {},
   "outputs": [
    {
     "name": "stdout",
     "output_type": "stream",
     "text": [
      "                                              review sentiment\n",
      "0  One of the other reviewers has mentioned that ...  positive\n",
      "1  A wonderful little production. <br /><br />The...  positive\n",
      "2  I thought this was a wonderful way to spend ti...  positive\n",
      "3  Basically there's a family where a little boy ...  negative\n",
      "4  Petter Mattei's \"Love in the Time of Money\" is...  positive\n",
      "Index(['review', 'sentiment'], dtype='object')\n"
     ]
    }
   ],
   "source": [
    "import pandas as pd\n",
    "\n",
    "# Load your dataset (update the filename as needed)\n",
    "df = pd.read_csv('IMDB Dataset.csv')  # Replace with your actual file path\n",
    "\n",
    "# Display the first few rows\n",
    "print(df.head())\n",
    "\n",
    "# Check column names\n",
    "print(df.columns)"
   ]
  },
  {
   "cell_type": "code",
   "execution_count": 2,
   "metadata": {},
   "outputs": [],
   "source": [
    "df.columns = ['review', 'sentiment']"
   ]
  },
  {
   "cell_type": "code",
   "execution_count": 15,
   "metadata": {},
   "outputs": [
    {
     "name": "stderr",
     "output_type": "stream",
     "text": [
      "[nltk_data] Downloading package words to\n",
      "[nltk_data]     /Users/ghanagokulgabburi/nltk_data...\n",
      "[nltk_data]   Package words is already up-to-date!\n"
     ]
    },
    {
     "name": "stdout",
     "output_type": "stream",
     "text": [
      "                                              review  \\\n",
      "0  One of the other reviewers has mentioned that ...   \n",
      "1  A wonderful little production. <br /><br />The...   \n",
      "2  I thought this was a wonderful way to spend ti...   \n",
      "3  Basically there's a family where a little boy ...   \n",
      "4  Petter Mattei's \"Love in the Time of Money\" is...   \n",
      "\n",
      "                                        clean_review  \n",
      "0  one of the other that after watching just epis...  \n",
      "1  wonderful little production the technique is v...  \n",
      "2  thought this was wonderful way to spend time o...  \n",
      "3  basically theres family where little boy jake ...  \n",
      "4  petter love in the time of money is visually s...  \n"
     ]
    }
   ],
   "source": [
    "import re\n",
    "import nltk\n",
    "from nltk.corpus import words\n",
    "\n",
    "# Download once if not already done\n",
    "nltk.download('words')\n",
    "\n",
    "# Load English word set\n",
    "english_words = set(words.words())\n",
    "\n",
    "def clean_review(text):\n",
    "    if not isinstance(text, str):\n",
    "        return \"\"\n",
    "    \n",
    "    # Convert to lowercase\n",
    "    text = text.lower()\n",
    "\n",
    "    # Remove non-ASCII characters\n",
    "    text = text.encode(\"ascii\", errors=\"ignore\").decode()\n",
    "\n",
    "    # Remove punctuation and special characters, but keep spaces\n",
    "    text = re.sub(r'[^a-zA-Z0-9\\s]', '', text)\n",
    "\n",
    "    # Split into words\n",
    "    words_list = text.split()\n",
    "\n",
    "    # Filter: remove words containing digits and keep only English words of length > 1\n",
    "    cleaned_words = [\n",
    "        word for word in words_list\n",
    "        if word.isalpha() and len(word) > 1 and word in english_words\n",
    "    ]\n",
    "\n",
    "    return ' '.join(cleaned_words)\n",
    "\n",
    "# Apply the updated function\n",
    "df['clean_review'] = df['review'].apply(clean_review)\n",
    "\n",
    "# Preview cleaned data\n",
    "print(df[['review', 'clean_review']].head())\n"
   ]
  },
  {
   "cell_type": "code",
   "execution_count": 16,
   "metadata": {},
   "outputs": [
    {
     "name": "stdout",
     "output_type": "stream",
     "text": [
      "Total words (features): 30962\n"
     ]
    }
   ],
   "source": [
    "from sklearn.feature_extraction.text import CountVectorizer\n",
    "\n",
    "# Initial high max_features just to capture full vocabulary\n",
    "vectorizer = CountVectorizer(stop_words='english')\n",
    "X_counts = vectorizer.fit_transform(df['clean_review'])\n",
    "\n",
    "# Check total number of unique words (features)\n",
    "print(\"Total words (features):\", len(vectorizer.get_feature_names_out()))"
   ]
  },
  {
   "cell_type": "code",
   "execution_count": 20,
   "metadata": {},
   "outputs": [
    {
     "data": {
      "image/png": "[encoded data removed]",
      "text/plain": [
       "<Figure size 1000x600 with 1 Axes>"
      ]
     },
     "metadata": {},
     "output_type": "display_data"
    }
   ],
   "source": [
    "import numpy as np\n",
    "import matplotlib.pyplot as plt\n",
    "\n",
    "# Sum word frequencies across all documents\n",
    "word_freq = np.asarray(X_counts.sum(axis=0)).ravel()\n",
    "sorted_freq = np.sort(word_freq)[::-1]\n",
    "\n",
    "# Plot top N frequencies\n",
    "plt.figure(figsize=(10,6))\n",
    "plt.plot(sorted_freq[:1000])\n",
    "plt.title(\"Top Word Frequencies\")\n",
    "plt.xlabel(\"Top N Words\")\n",
    "plt.ylabel(\"Frequency\")\n",
    "plt.grid(True)\n",
    "plt.show()"
   ]
  },
  {
   "cell_type": "code",
   "execution_count": 19,
   "metadata": {},
   "outputs": [
    {
     "name": "stdout",
     "output_type": "stream",
     "text": [
      "Selected top 500 features. Shape: (50000, 500)\n",
      "Selected top 1000 features. Shape: (50000, 1000)\n",
      "Selected top 2000 features. Shape: (50000, 2000)\n",
      "Selected top 3000 features. Shape: (50000, 3000)\n",
      "Selected top 5000 features. Shape: (50000, 5000)\n"
     ]
    }
   ],
   "source": [
    "from sklearn.feature_selection import SelectKBest, chi2\n",
    "\n",
    "# Use chi-squared to select top k words correlated with the sentiment\n",
    "for k in [500, 1000, 2000, 3000, 5000]:\n",
    "    selector = SelectKBest(chi2, k=k)\n",
    "    X_selected = selector.fit_transform(X_counts, df['sentiment'])\n",
    "    print(f\"Selected top {k} features. Shape: {X_selected.shape}\")"
   ]
  },
  {
   "cell_type": "code",
   "execution_count": 21,
   "metadata": {},
   "outputs": [],
   "source": [
    "from sklearn.feature_extraction.text import CountVectorizer\n",
    "\n",
    "# Use a high limit (or no limit) to capture full vocabulary\n",
    "vectorizer = CountVectorizer(stop_words='english')\n",
    "X_counts = vectorizer.fit_transform(df['clean_review'])\n",
    "y = df['sentiment']\n"
   ]
  },
  {
   "cell_type": "code",
   "execution_count": 22,
   "metadata": {},
   "outputs": [
    {
     "name": "stdout",
     "output_type": "stream",
     "text": [
      "Top 500 features => Accuracy: 0.8454\n",
      "Top 1000 features => Accuracy: 0.8519\n",
      "Top 2000 features => Accuracy: 0.8552\n",
      "Top 3000 features => Accuracy: 0.8572\n",
      "Top 5000 features => Accuracy: 0.8571\n",
      "Top 7000 features => Accuracy: 0.8583\n",
      "Top 10000 features => Accuracy: 0.8565\n"
     ]
    }
   ],
   "source": [
    "from sklearn.feature_selection import SelectKBest, chi2\n",
    "from sklearn.model_selection import train_test_split\n",
    "from sklearn.naive_bayes import MultinomialNB\n",
    "from sklearn.metrics import accuracy_score\n",
    "\n",
    "# Define your k values (top N features to try)\n",
    "k_values = [500, 1000, 2000, 3000, 5000, 7000, 10000]\n",
    "results = []\n",
    "\n",
    "for k in k_values:\n",
    "    # Feature selection\n",
    "    selector = SelectKBest(score_func=chi2, k=k)\n",
    "    X_selected = selector.fit_transform(X_counts, y)\n",
    "\n",
    "    # Train-test split\n",
    "    X_train, X_test, y_train, y_test = train_test_split(\n",
    "        X_selected, y, test_size=0.2, random_state=42, stratify=y\n",
    "    )\n",
    "\n",
    "    # Train model\n",
    "    model = MultinomialNB()\n",
    "    model.fit(X_train, y_train)\n",
    "\n",
    "    # Evaluate\n",
    "    y_pred = model.predict(X_test)\n",
    "    accuracy = accuracy_score(y_test, y_pred)\n",
    "\n",
    "    results.append((k, accuracy))\n",
    "    print(f\"Top {k} features => Accuracy: {accuracy:.4f}\")\n"
   ]
  },
  {
   "cell_type": "code",
   "execution_count": 23,
   "metadata": {},
   "outputs": [
    {
     "data": {
      "image/png": "[encoded data removed]",
      "text/plain": [
       "<Figure size 1000x600 with 1 Axes>"
      ]
     },
     "metadata": {},
     "output_type": "display_data"
    }
   ],
   "source": [
    "import matplotlib.pyplot as plt\n",
    "\n",
    "k_vals, acc_vals = zip(*results)\n",
    "plt.figure(figsize=(10,6))\n",
    "plt.plot(k_vals, acc_vals, marker='o')\n",
    "plt.title(\"Model Accuracy vs. Number of Word Features\")\n",
    "plt.xlabel(\"Number of Top Features (k)\")\n",
    "plt.ylabel(\"Accuracy\")\n",
    "plt.grid(True)\n",
    "plt.show()\n"
   ]
  },
  {
   "cell_type": "code",
   "execution_count": 32,
   "metadata": {},
   "outputs": [
    {
     "name": "stdout",
     "output_type": "stream",
     "text": [
      "   abbot  able  ably  abominable  abomination  absent  absolutely  absorbing  \\\n",
      "0      0     0     0           0            0       0           0          0   \n",
      "1      0     0     0           0            0       0           0          0   \n",
      "2      0     0     0           0            0       0           0          0   \n",
      "3      0     0     0           0            0       0           0          0   \n",
      "4      0     0     0           0            0       0           0          0   \n",
      "5      0     0     0           0            0       0           0          0   \n",
      "6      0     0     0           0            0       0           0          0   \n",
      "7      0     0     0           0            0       0           0          0   \n",
      "8      0     0     0           0            0       0           0          0   \n",
      "9      0     0     0           0            0       0           0          0   \n",
      "\n",
      "   absurd  abu  ...  yuck  zenith  zephyr  zeppelin  zero  zeta  zombie  zoom  \\\n",
      "0       0    0  ...     0       0       0         0     0     0       0     0   \n",
      "1       0    0  ...     0       0       0         0     0     0       0     0   \n",
      "2       0    0  ...     0       0       0         0     0     0       0     0   \n",
      "3       0    0  ...     0       0       0         0     0     0       1     0   \n",
      "4       0    0  ...     0       0       0         0     0     0       0     0   \n",
      "5       0    0  ...     0       0       0         0     0     0       0     0   \n",
      "6       0    0  ...     0       0       0         0     0     0       0     0   \n",
      "7       0    0  ...     0       0       0         0     0     0       0     0   \n",
      "8       0    0  ...     0       0       0         0     0     0       0     0   \n",
      "9       0    0  ...     0       0       0         0     0     0       0     0   \n",
      "\n",
      "   zorro  sentiment  \n",
      "0      0   positive  \n",
      "1      0   positive  \n",
      "2      0   positive  \n",
      "3      0   negative  \n",
      "4      0   positive  \n",
      "5      0   positive  \n",
      "6      0   positive  \n",
      "7      0   negative  \n",
      "8      0   negative  \n",
      "9      0   positive  \n",
      "\n",
      "[10 rows x 3001 columns]\n"
     ]
    }
   ],
   "source": [
    "selector = SelectKBest(score_func=chi2, k=3000)\n",
    "X_selected = selector.fit_transform(X_counts, y)\n",
    "\n",
    "# Step 2: Get top 5000 selected word names\n",
    "feature_names = vectorizer.get_feature_names_out()\n",
    "selected_feature_names = feature_names[selector.get_support()]\n",
    "\n",
    "# Step 3: Convert to DataFrame\n",
    "X_selected_df = pd.DataFrame(X_selected.toarray(), columns=selected_feature_names)\n",
    "\n",
    "# Step 4: Add sentiment column\n",
    "X_selected_df['sentiment'] = y.reset_index(drop=True)\n",
    "\n",
    "# Step 5: Preview the DataFrame\n",
    "print(X_selected_df.head(10))"
   ]
  },
  {
   "cell_type": "code",
   "execution_count": 28,
   "metadata": {},
   "outputs": [
    {
     "name": "stdout",
     "output_type": "stream",
     "text": [
      "Label distribution:\n",
      "sentiment\n",
      "positive    25000\n",
      "negative    25000\n",
      "Name: count, dtype: int64\n",
      "(50000, 3001)\n"
     ]
    }
   ],
   "source": [
    "print(\"Label distribution:\")\n",
    "print(y.value_counts())\n",
    "print(X_selected_df.shape)"
   ]
  },
  {
   "cell_type": "code",
   "execution_count": 69,
   "metadata": {},
   "outputs": [
    {
     "name": "stdout",
     "output_type": "stream",
     "text": [
      "✅ Accuracy: 0.8572\n",
      "\n",
      "📋 Classification Report:\n",
      "               precision    recall  f1-score   support\n",
      "\n",
      "    negative       0.85      0.87      0.86      5000\n",
      "    positive       0.87      0.85      0.86      5000\n",
      "\n",
      "    accuracy                           0.86     10000\n",
      "   macro avg       0.86      0.86      0.86     10000\n",
      "weighted avg       0.86      0.86      0.86     10000\n",
      "\n",
      "\n",
      "🔍 Confusion Matrix:\n",
      " [[4342  658]\n",
      " [ 770 4230]]\n"
     ]
    }
   ],
   "source": [
    "from sklearn.model_selection import train_test_split\n",
    "from sklearn.naive_bayes import MultinomialNB\n",
    "from sklearn.metrics import accuracy_score, classification_report, confusion_matrix\n",
    "\n",
    "# Step 0: Reorder the DataFrame to put 'sentiment' as the first column\n",
    "cols = X_selected_df.columns.tolist()\n",
    "cols.insert(0, cols.pop(cols.index('sentiment')))  # Move 'sentiment' to front\n",
    "X_selected_df = X_selected_df[cols]\n",
    "\n",
    "# Step 1: Separate features and label\n",
    "y = X_selected_df['sentiment']\n",
    "X = X_selected_df.drop(columns=['sentiment'])\n",
    "\n",
    "# Step 2: Train-test split\n",
    "X_train, X_test, y_train, y_test = train_test_split(\n",
    "    X, y, test_size=0.2, random_state=42, stratify=y\n",
    ")\n",
    "\n",
    "# Step 3: Initialize and train the model\n",
    "mnb = MultinomialNB()\n",
    "mnb.fit(X_train, y_train)\n",
    "\n",
    "# Step 4: Make predictions\n",
    "y_pred = mnb.predict(X_test)\n",
    "\n",
    "# Step 5: Evaluate the model\n",
    "print(\"✅ Accuracy:\", accuracy_score(y_test, y_pred))\n",
    "print(\"\\n📋 Classification Report:\\n\", classification_report(y_test, y_pred))\n",
    "print(\"\\n🔍 Confusion Matrix:\\n\", confusion_matrix(y_test, y_pred))\n",
    "\n"
   ]
  },
  {
   "cell_type": "code",
   "execution_count": 70,
   "metadata": {},
   "outputs": [
    {
     "name": "stderr",
     "output_type": "stream",
     "text": [
      "/opt/anaconda3/lib/python3.12/site-packages/IPython/core/pylabtools.py:170: UserWarning: Glyph 128269 (\\N{LEFT-POINTING MAGNIFYING GLASS}) missing from font(s) DejaVu Sans.\n",
      "  fig.canvas.print_figure(bytes_io, **kw)\n"
     ]
    },
    {
     "data": {
      "image/png": "[encoded data removed]",
      "text/plain": [
       "<Figure size 600x400 with 1 Axes>"
      ]
     },
     "metadata": {},
     "output_type": "display_data"
    }
   ],
   "source": [
    "import seaborn as sns\n",
    "import matplotlib.pyplot as plt\n",
    "from sklearn.metrics import confusion_matrix\n",
    "\n",
    "# Create confusion matrix\n",
    "cm = confusion_matrix(y_test, y_pred)\n",
    "\n",
    "# Plot the heatmap\n",
    "plt.figure(figsize=(6,4))\n",
    "sns.heatmap(cm, annot=True, fmt='d', cmap='Blues', cbar=False,\n",
    "            xticklabels=model.classes_, yticklabels=model.classes_)\n",
    "plt.title(\"🔍 Confusion Matrix\")\n",
    "plt.xlabel(\"Predicted Label\")\n",
    "plt.ylabel(\"True Label\")\n",
    "plt.show()"
   ]
  },
  {
   "cell_type": "code",
   "execution_count": 53,
   "metadata": {},
   "outputs": [],
   "source": [
    "X_t, X_test = train_test_split(\n",
    "    X_selected_df, test_size=0.3, random_state=42, stratify=y\n",
    ")\n",
    "\n"
   ]
  },
  {
   "cell_type": "code",
   "execution_count": 59,
   "metadata": {},
   "outputs": [
    {
     "name": "stdout",
     "output_type": "stream",
     "text": [
      "      sentiment  abbot  able  ably  abominable  abomination  absent  \\\n",
      "27509  positive      0     0     0           0            0       0   \n",
      "34629  positive      0     0     0           0            0       0   \n",
      "15277  positive      0     0     0           0            0       0   \n",
      "1062   negative      0     0     0           0            0       0   \n",
      "38939  positive      0     0     0           0            0       0   \n",
      "44977  positive      0     0     0           0            0       0   \n",
      "47873  positive      0     0     0           0            0       0   \n",
      "47133  positive      0     0     0           0            0       0   \n",
      "27602  positive      0     0     0           0            0       0   \n",
      "40844  positive      0     1     0           0            0       0   \n",
      "\n",
      "       absolutely  absorbing  absurd  ...  youve  yuck  zenith  zephyr  \\\n",
      "27509           0          0       0  ...      0     0       0       0   \n",
      "34629           0          0       0  ...      0     0       0       0   \n",
      "15277           0          0       0  ...      0     0       0       0   \n",
      "1062            0          0       0  ...      0     0       0       0   \n",
      "38939           0          0       0  ...      0     0       0       0   \n",
      "44977           0          0       0  ...      0     0       0       0   \n",
      "47873           0          0       0  ...      0     0       0       0   \n",
      "47133           0          0       0  ...      0     0       0       0   \n",
      "27602           0          0       0  ...      0     0       0       0   \n",
      "40844           0          0       0  ...      1     0       0       0   \n",
      "\n",
      "       zeppelin  zero  zeta  zombie  zoom  zorro  \n",
      "27509         0     0     0       0     0      0  \n",
      "34629         0     0     0       0     0      0  \n",
      "15277         0     0     0       0     0      0  \n",
      "1062          0     0     0       0     0      0  \n",
      "38939         0     0     0       0     0      0  \n",
      "44977         0     0     0       0     0      0  \n",
      "47873         0     0     0       0     0      0  \n",
      "47133         0     0     0       0     0      0  \n",
      "27602         0     0     0       0     0      0  \n",
      "40844         0     0     0       0     0      0  \n",
      "\n",
      "[10 rows x 3001 columns]\n",
      "      sentiment  abbot  able  ably  abominable  abomination  absent  \\\n",
      "48578  negative      0     0     0           0            0       0   \n",
      "36663  negative      0     0     0           0            0       0   \n",
      "25640  negative      0     0     0           0            0       0   \n",
      "34655  negative      0     0     0           0            0       0   \n",
      "11722  negative      0     0     0           0            0       0   \n",
      "47394  negative      0     0     0           0            0       0   \n",
      "25069  positive      0     0     0           0            0       0   \n",
      "35304  positive      0     0     0           0            0       0   \n",
      "46774  positive      0     0     0           0            0       0   \n",
      "15473  negative      0     0     0           0            0       0   \n",
      "\n",
      "       absolutely  absorbing  absurd  ...  youve  yuck  zenith  zephyr  \\\n",
      "48578           0          0       0  ...      0     0       0       0   \n",
      "36663           0          0       0  ...      0     0       0       0   \n",
      "25640           0          0       0  ...      0     0       0       0   \n",
      "34655           0          0       0  ...      0     0       0       0   \n",
      "11722           0          0       0  ...      0     0       0       0   \n",
      "47394           0          0       0  ...      0     0       0       0   \n",
      "25069           0          0       0  ...      0     0       0       0   \n",
      "35304           0          0       0  ...      0     0       0       0   \n",
      "46774           0          0       0  ...      0     0       0       0   \n",
      "15473           0          0       0  ...      0     0       0       0   \n",
      "\n",
      "       zeppelin  zero  zeta  zombie  zoom  zorro  \n",
      "48578         0     0     0       0     0      0  \n",
      "36663         0     0     0       0     0      0  \n",
      "25640         0     0     0       0     0      0  \n",
      "34655         0     0     0       0     0      0  \n",
      "11722         0     0     0       0     0      0  \n",
      "47394         0     0     0       0     0      0  \n",
      "25069         0     0     0       0     0      0  \n",
      "35304         0     0     0       0     0      0  \n",
      "46774         0     0     0       0     0      0  \n",
      "15473         0     0     0       0     0      0  \n",
      "\n",
      "[10 rows x 3001 columns]\n"
     ]
    }
   ],
   "source": [
    "print(X_t.head(10))\n",
    "print(X_test.head(10))"
   ]
  },
  {
   "cell_type": "code",
   "execution_count": 60,
   "metadata": {},
   "outputs": [
    {
     "name": "stdout",
     "output_type": "stream",
     "text": [
      "  sentiment  abbot  able  ably  abominable  abomination  absent  absolutely  \\\n",
      "0  positive      0     0     0           0            0       0           0   \n",
      "1  positive      0     0     0           0            0       0           0   \n",
      "2  positive      0     0     0           0            0       0           0   \n",
      "3  negative      0     0     0           0            0       0           0   \n",
      "4  positive      0     0     0           0            0       0           0   \n",
      "\n",
      "   absorbing  absurd  ...  youve  yuck  zenith  zephyr  zeppelin  zero  zeta  \\\n",
      "0          0       0  ...      0     0       0       0         0     0     0   \n",
      "1          0       0  ...      0     0       0       0         0     0     0   \n",
      "2          0       0  ...      0     0       0       0         0     0     0   \n",
      "3          0       0  ...      0     0       0       0         0     0     0   \n",
      "4          0       0  ...      0     0       0       0         0     0     0   \n",
      "\n",
      "   zombie  zoom  zorro  \n",
      "0       0     0      0  \n",
      "1       0     0      0  \n",
      "2       0     0      0  \n",
      "3       1     0      0  \n",
      "4       0     0      0  \n",
      "\n",
      "[5 rows x 3001 columns]\n"
     ]
    }
   ],
   "source": [
    "# Convert count-based values to binary: 1 if word appears, 0 if not\n",
    "X_bernoulli = X_selected_df.drop(columns=['sentiment']).copy()\n",
    "X_bernoulli = (X_bernoulli > 0).astype(int)\n",
    "\n",
    "# Add back the sentiment column\n",
    "X_bernoulli['sentiment'] = X_selected_df['sentiment']\n",
    "\n",
    "# Step 0: Reorder the DataFrame to put 'sentiment' as the first column\n",
    "cols = X_bernoulli.columns.tolist()\n",
    "cols.insert(0, cols.pop(cols.index('sentiment')))  # Move 'sentiment' to front\n",
    "X_bernoulli = X_bernoulli[cols]\n",
    "\n",
    "# Preview\n",
    "print(X_bernoulli.head())\n"
   ]
  },
  {
   "cell_type": "code",
   "execution_count": 71,
   "metadata": {},
   "outputs": [
    {
     "name": "stdout",
     "output_type": "stream",
     "text": [
      "✅ Accuracy: 0.8632\n",
      "\n",
      "📋 Classification Report:\n",
      "               precision    recall  f1-score   support\n",
      "\n",
      "    negative       0.87      0.86      0.86      5000\n",
      "    positive       0.86      0.87      0.86      5000\n",
      "\n",
      "    accuracy                           0.86     10000\n",
      "   macro avg       0.86      0.86      0.86     10000\n",
      "weighted avg       0.86      0.86      0.86     10000\n",
      "\n",
      "\n",
      "🔍 Confusion Matrix:\n",
      " [[4281  719]\n",
      " [ 649 4351]]\n"
     ]
    }
   ],
   "source": [
    "from sklearn.naive_bayes import BernoulliNB\n",
    "from sklearn.model_selection import train_test_split\n",
    "from sklearn.metrics import accuracy_score, classification_report\n",
    "\n",
    "# Split the data\n",
    "X = X_bernoulli.drop(columns=['sentiment'])\n",
    "y = X_bernoulli['sentiment']\n",
    "X_train, X_test, y_train, y_test = train_test_split(\n",
    "    X, y, test_size=0.2, random_state=42, stratify=y\n",
    ")\n",
    "\n",
    "# Train and evaluate\n",
    "bnb = BernoulliNB()\n",
    "bnb.fit(X_train, y_train)\n",
    "y_pred = bnb.predict(X_test)\n",
    "\n",
    "print(\"✅ Accuracy:\", accuracy_score(y_test, y_pred))\n",
    "print(\"\\n📋 Classification Report:\\n\", classification_report(y_test, y_pred))\n",
    "print(\"\\n🔍 Confusion Matrix:\\n\", confusion_matrix(y_test, y_pred))\n"
   ]
  },
  {
   "cell_type": "code",
   "execution_count": 62,
   "metadata": {},
   "outputs": [],
   "source": [
    "X_t, X_test = train_test_split(\n",
    "    X_bernoulli, test_size=0.3, random_state=42, stratify=y\n",
    ")"
   ]
  },
  {
   "cell_type": "code",
   "execution_count": 64,
   "metadata": {},
   "outputs": [
    {
     "name": "stdout",
     "output_type": "stream",
     "text": [
      "      sentiment  abbot  able  ably  abominable  abomination  absent  \\\n",
      "48578  negative      0     0     0           0            0       0   \n",
      "36663  negative      0     0     0           0            0       0   \n",
      "25640  negative      0     0     0           0            0       0   \n",
      "34655  negative      0     0     0           0            0       0   \n",
      "11722  negative      0     0     0           0            0       0   \n",
      "47394  negative      0     0     0           0            0       0   \n",
      "25069  positive      0     0     0           0            0       0   \n",
      "35304  positive      0     0     0           0            0       0   \n",
      "46774  positive      0     0     0           0            0       0   \n",
      "15473  negative      0     0     0           0            0       0   \n",
      "\n",
      "       absolutely  absorbing  absurd  ...  youve  yuck  zenith  zephyr  \\\n",
      "48578           0          0       0  ...      0     0       0       0   \n",
      "36663           0          0       0  ...      0     0       0       0   \n",
      "25640           0          0       0  ...      0     0       0       0   \n",
      "34655           0          0       0  ...      0     0       0       0   \n",
      "11722           0          0       0  ...      0     0       0       0   \n",
      "47394           0          0       0  ...      0     0       0       0   \n",
      "25069           0          0       0  ...      0     0       0       0   \n",
      "35304           0          0       0  ...      0     0       0       0   \n",
      "46774           0          0       0  ...      0     0       0       0   \n",
      "15473           0          0       0  ...      0     0       0       0   \n",
      "\n",
      "       zeppelin  zero  zeta  zombie  zoom  zorro  \n",
      "48578         0     0     0       0     0      0  \n",
      "36663         0     0     0       0     0      0  \n",
      "25640         0     0     0       0     0      0  \n",
      "34655         0     0     0       0     0      0  \n",
      "11722         0     0     0       0     0      0  \n",
      "47394         0     0     0       0     0      0  \n",
      "25069         0     0     0       0     0      0  \n",
      "35304         0     0     0       0     0      0  \n",
      "46774         0     0     0       0     0      0  \n",
      "15473         0     0     0       0     0      0  \n",
      "\n",
      "[10 rows x 3001 columns]\n"
     ]
    }
   ],
   "source": [
    "#print(X_t.head(10))\n",
    "print(X_test.head(10))"
   ]
  },
  {
   "cell_type": "code",
   "execution_count": 72,
   "metadata": {},
   "outputs": [
    {
     "name": "stderr",
     "output_type": "stream",
     "text": [
      "/opt/anaconda3/lib/python3.12/site-packages/IPython/core/pylabtools.py:170: UserWarning: Glyph 128269 (\\N{LEFT-POINTING MAGNIFYING GLASS}) missing from font(s) DejaVu Sans.\n",
      "  fig.canvas.print_figure(bytes_io, **kw)\n"
     ]
    },
    {
     "data": {
      "image/png": "[encoded data removed]",
      "text/plain": [
       "<Figure size 600x400 with 1 Axes>"
      ]
     },
     "metadata": {},
     "output_type": "display_data"
    }
   ],
   "source": [
    "import seaborn as sns\n",
    "import matplotlib.pyplot as plt\n",
    "from sklearn.metrics import confusion_matrix\n",
    "\n",
    "# Create confusion matrix\n",
    "cm = confusion_matrix(y_test, y_pred)\n",
    "\n",
    "# Plot the heatmap\n",
    "plt.figure(figsize=(6,4))\n",
    "sns.heatmap(cm, annot=True, fmt='d', cmap='Blues', cbar=False,\n",
    "            xticklabels=model.classes_, yticklabels=model.classes_)\n",
    "plt.title(\"🔍 Confusion Matrix\")\n",
    "plt.xlabel(\"Predicted Label\")\n",
    "plt.ylabel(\"True Label\")\n",
    "plt.show()"
   ]
  }
 ],
 "metadata": {
  "kernelspec": {
   "display_name": "base",
   "language": "python",
   "name": "python3"
  },
  "language_info": {
   "codemirror_mode": {
    "name": "ipython",
    "version": 3
   },
   "file_extension": ".py",
   "mimetype": "text/x-python",
   "name": "python",
   "nbconvert_exporter": "python",
   "pygments_lexer": "ipython3",
   "version": "3.12.2"
  }
 },
 "nbformat": 4,
 "nbformat_minor": 2
}
